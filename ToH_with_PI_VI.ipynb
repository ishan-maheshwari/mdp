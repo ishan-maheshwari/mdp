{
  "nbformat": 4,
  "nbformat_minor": 0,
  "metadata": {
    "kernelspec": {
      "display_name": "Python 3",
      "language": "python",
      "name": "python3"
    },
    "language_info": {
      "codemirror_mode": {
        "name": "ipython",
        "version": 3
      },
      "file_extension": ".py",
      "mimetype": "text/x-python",
      "name": "python",
      "nbconvert_exporter": "python",
      "pygments_lexer": "ipython3",
      "version": "3.6.5"
    },
    "colab": {
      "name": "ToH_with_PI_VI.ipynb",
      "provenance": [],
      "collapsed_sections": []
    }
  },
  "cells": [
    {
      "cell_type": "markdown",
      "metadata": {
        "id": "GYvw2Kl7qkOI",
        "colab_type": "text"
      },
      "source": [
        "# Reinforcement Learning Overview"
      ]
    },
    {
      "cell_type": "code",
      "metadata": {
        "id": "FJd15knG7rAF",
        "colab_type": "code",
        "outputId": "df272bc9-5d86-49a8-b126-1051a10950b7",
        "colab": {
          "base_uri": "https://localhost:8080/",
          "height": 238
        }
      },
      "source": [
        "!pip install -e \"git+git://github.com/AlexMatthers/toh-gym#egg=toh-gym\""
      ],
      "execution_count": 1,
      "outputs": [
        {
          "output_type": "stream",
          "text": [
            "Obtaining toh-gym from git+git://github.com/AlexMatthers/toh-gym#egg=toh-gym\n",
            "  Cloning git://github.com/AlexMatthers/toh-gym to ./src/toh-gym\n",
            "  Running command git clone -q git://github.com/AlexMatthers/toh-gym /content/src/toh-gym\n",
            "Requirement already satisfied: gym in /usr/local/lib/python3.6/dist-packages (from toh-gym) (0.17.1)\n",
            "Requirement already satisfied: scipy in /usr/local/lib/python3.6/dist-packages (from gym->toh-gym) (1.4.1)\n",
            "Requirement already satisfied: pyglet<=1.5.0,>=1.4.0 in /usr/local/lib/python3.6/dist-packages (from gym->toh-gym) (1.5.0)\n",
            "Requirement already satisfied: six in /usr/local/lib/python3.6/dist-packages (from gym->toh-gym) (1.12.0)\n",
            "Requirement already satisfied: cloudpickle<1.4.0,>=1.2.0 in /usr/local/lib/python3.6/dist-packages (from gym->toh-gym) (1.3.0)\n",
            "Requirement already satisfied: numpy>=1.10.4 in /usr/local/lib/python3.6/dist-packages (from gym->toh-gym) (1.18.2)\n",
            "Requirement already satisfied: future in /usr/local/lib/python3.6/dist-packages (from pyglet<=1.5.0,>=1.4.0->gym->toh-gym) (0.16.0)\n",
            "Installing collected packages: toh-gym\n",
            "  Running setup.py develop for toh-gym\n",
            "Successfully installed toh-gym\n"
          ],
          "name": "stdout"
        }
      ]
    },
    {
      "cell_type": "markdown",
      "metadata": {
        "id": "5EfqvaY2qkOJ",
        "colab_type": "text"
      },
      "source": [
        "It is the area of Machine learning that deal with how an agent behave in an enviorment. This notebook covers two fundamental algorithms to solve MDPs namely **Value Iteration** and **Policy Iteration**."
      ]
    },
    {
      "cell_type": "markdown",
      "metadata": {
        "id": "i09bqXk0qkOK",
        "colab_type": "text"
      },
      "source": [
        "## Markov Decision Process - MDP"
      ]
    },
    {
      "cell_type": "markdown",
      "metadata": {
        "id": "7ftTt5lqqkOK",
        "colab_type": "text"
      },
      "source": [
        "In MDP, there is an agent. The agent choose an action $a_{t}$ at time $t$ and as a consequance the enviorment changes.\n",
        "Here The evniorment is world around the agent. After the action the enviorment state changes to $s_{t+1}$.\n",
        "A reward might be emitted assciated with what just happened and then this process repeats. ![](https://github.com/waqasqammar/MDP-with-Value-Iteration-and-Policy-Iteration/blob/master/nb_images/mdp.png?raw=1)\n",
        "\n",
        "So, there is a feedback cycle in that the next action you take, the next decision you make is in a situation that's the consiquence of what you did before."
      ]
    },
    {
      "cell_type": "markdown",
      "metadata": {
        "id": "ShLx5BH2qkOL",
        "colab_type": "text"
      },
      "source": [
        "## 1. Import libraries"
      ]
    },
    {
      "cell_type": "code",
      "metadata": {
        "id": "jdt-oCXyqkOM",
        "colab_type": "code",
        "colab": {}
      },
      "source": [
        "import numpy as np\n",
        "import gym\n",
        "import gym.spaces as spaces\n",
        "import time"
      ],
      "execution_count": 0,
      "outputs": []
    },
    {
      "cell_type": "code",
      "metadata": {
        "id": "86LftdkmqkOP",
        "colab_type": "code",
        "outputId": "9336f361-4c98-4824-e7c6-32cdc116a164",
        "colab": {
          "base_uri": "https://localhost:8080/",
          "height": 34
        }
      },
      "source": [
        "# action mapping for display the final result\n",
        "action_mapping = {\n",
        "    3: '\\u2191', # UP\n",
        "    2: '\\u2192', # RIGHT\n",
        "    1: '\\u2193', # DOWN\n",
        "    0: '\\u2190' # LEFT\n",
        "}\n",
        "print(' '.join([action_mapping[i] for i in range(4)]))"
      ],
      "execution_count": 2,
      "outputs": [
        {
          "output_type": "stream",
          "text": [
            "← ↓ → ↑\n"
          ],
          "name": "stdout"
        }
      ]
    },
    {
      "cell_type": "code",
      "metadata": {
        "id": "nJqqo2GnuckB",
        "colab_type": "code",
        "colab": {}
      },
      "source": [
        "import matplotlib.pyplot as plt\n",
        "\n",
        "def plot_values(V):\n",
        "\t# reshape value function\n",
        "\tV_sq = np.reshape(V, (8,8))\n",
        "\n",
        "\t# plot the state-value function\n",
        "\tfig = plt.figure(figsize=(12, 12))\n",
        "\tax = fig.add_subplot(111)\n",
        "\tim = ax.imshow(V_sq, cmap='cool')\n",
        "\tfor (j,i),label in np.ndenumerate(V_sq):\n",
        "\t    ax.text(i, j, np.round(label, 5), ha='center', va='center', fontsize=14)\n",
        "\tplt.tick_params(bottom='off', left='off', labelbottom='off', labelleft='off')\n",
        "\tplt.title('State-Value Function')\n",
        "\tplt.show()"
      ],
      "execution_count": 0,
      "outputs": []
    },
    {
      "cell_type": "markdown",
      "metadata": {
        "id": "5rZ7aR9BqkOS",
        "colab_type": "text"
      },
      "source": [
        "## 2. Setup GYM Env for playing"
      ]
    },
    {
      "cell_type": "markdown",
      "metadata": {
        "id": "7N6e2mK7qkOT",
        "colab_type": "text"
      },
      "source": [
        "we define a faction that will take a GYM enviorment and plays number of games according to given policy."
      ]
    },
    {
      "cell_type": "code",
      "metadata": {
        "id": "OJJdl4JfqkOT",
        "colab_type": "code",
        "colab": {}
      },
      "source": [
        "def play_episodes(enviorment, n_episodes, policy, random = False):\n",
        "    \"\"\"\n",
        "    This fucntion plays the given number of episodes given by following a policy or sample randomly from action_space.\n",
        "    \n",
        "    Parameters:\n",
        "        enviorment: openAI GYM object\n",
        "        n_episodes: number of episodes to run\n",
        "        policy: Policy to follow while playing an episode\n",
        "        random: Flag for taking random actions. if True no policy would be followed and action will be taken randomly\n",
        "        \n",
        "    Return:\n",
        "        wins: Total number of wins playing n_episodes\n",
        "        total_reward: Total reward of n_episodes\n",
        "        avg_reward: Average reward of n_episodes\n",
        "    \n",
        "    \"\"\"\n",
        "    # intialize wins and total reward\n",
        "    wins = 0\n",
        "    total_reward = 0\n",
        "    \n",
        "    # loop over number of episodes to play\n",
        "    for episode in range(n_episodes):\n",
        "        \n",
        "        # flag to check if the game is finished\n",
        "        terminated = False\n",
        "        \n",
        "        # reset the enviorment every time when playing a new episode\n",
        "        state = enviorment.reset()\n",
        "        \n",
        "        while not terminated:\n",
        "            \n",
        "            # check if the random flag is not true then follow the given policy other wise take random action\n",
        "            if random:\n",
        "                action = enviorment.action_space.sample()\n",
        "            else:\n",
        "                action = policy[state]\n",
        "\n",
        "            # take the next step\n",
        "            next_state, reward,  terminated, info = enviorment.step(action)\n",
        "            \n",
        "            # enviorment.render()\n",
        "            \n",
        "            # accumalate total reward\n",
        "            total_reward += reward\n",
        "            \n",
        "            # change the state\n",
        "            state = next_state\n",
        "            \n",
        "            # if game is over with positive reward then add 1.0 in wins\n",
        "            if terminated and reward == 1.0:\n",
        "                wins += 1\n",
        "                \n",
        "    # calculate average reward\n",
        "    average_reward = total_reward / n_episodes\n",
        "    \n",
        "    return wins, total_reward, average_reward\n",
        "            "
      ],
      "execution_count": 0,
      "outputs": []
    },
    {
      "cell_type": "markdown",
      "metadata": {
        "id": "qHVBEG4fqkOW",
        "colab_type": "text"
      },
      "source": [
        "## 3. Solve for Value Iteration."
      ]
    },
    {
      "cell_type": "markdown",
      "metadata": {
        "id": "asHkWWPPqkOX",
        "colab_type": "text"
      },
      "source": [
        "![](https://github.com/waqasqammar/MDP-with-Value-Iteration-and-Policy-Iteration/blob/master/nb_images/value_iter.png?raw=1)"
      ]
    },
    {
      "cell_type": "code",
      "metadata": {
        "id": "JHRPfBPHqkOX",
        "colab_type": "code",
        "colab": {}
      },
      "source": [
        "\n",
        "def one_step_lookahead(env, state, V , discount_factor = 0.99):\n",
        "    \"\"\"\n",
        "    Helper function to  calculate state-value function\n",
        "    \n",
        "    Arguments:\n",
        "        env: openAI GYM Enviorment object\n",
        "        state: state to consider\n",
        "        V: Estimated Value for each state. Vector of length nS\n",
        "        discount_factor: MDP discount factor\n",
        "        \n",
        "    Return:\n",
        "        action_values: Expected value of each action in a state. Vector of length nA\n",
        "    \"\"\"\n",
        "    \n",
        "    # initialize vector of action values\n",
        "    action_values = np.zeros(env.nA)\n",
        "    \n",
        "    # loop over the actions we can take in an enviorment \n",
        "    for action in range(env.nA):\n",
        "        # loop over the P_sa distribution.\n",
        "        for probablity, next_state, reward, info in env.P[state][action]:\n",
        "             #if we are in state s and take action a. then sum over all the possible states we can land into.\n",
        "            action_values[action] += probablity * (reward + (discount_factor * V[next_state]))\n",
        "            \n",
        "    return action_values"
      ],
      "execution_count": 0,
      "outputs": []
    },
    {
      "cell_type": "code",
      "metadata": {
        "id": "tfr4WGtAqkOZ",
        "colab_type": "code",
        "colab": {}
      },
      "source": [
        "def update_policy(env, policy, V, discount_factor):\n",
        "    \n",
        "    \"\"\"\n",
        "    Helper function to update a given policy based on given value function.\n",
        "    \n",
        "    Arguments:\n",
        "        env: openAI GYM Enviorment object.\n",
        "        policy: policy to update.\n",
        "        V: Estimated Value for each state. Vector of length nS.\n",
        "        discount_factor: MDP discount factor.\n",
        "    Return:\n",
        "        policy: Updated policy based on the given state-Value function 'V'.\n",
        "    \"\"\"\n",
        "    \n",
        "    for state in range(env.nS):\n",
        "        # for a given state compute state-action value.\n",
        "        action_values = one_step_lookahead(env, state, V, discount_factor)\n",
        "        \n",
        "        # choose the action which maximizez the state-action value.\n",
        "        policy[state] =  np.argmax(action_values)\n",
        "        \n",
        "    return policy\n",
        "    "
      ],
      "execution_count": 0,
      "outputs": []
    },
    {
      "cell_type": "code",
      "metadata": {
        "id": "PkbrvjQzqkOc",
        "colab_type": "code",
        "colab": {}
      },
      "source": [
        "def value_iteration(env, discount_factor = 0.999, max_iteration = 1000):\n",
        "    \"\"\"\n",
        "    Algorithm to solve MPD.\n",
        "    \n",
        "    Arguments:\n",
        "        env: openAI GYM Enviorment object.\n",
        "        discount_factor: MDP discount factor.\n",
        "        max_iteration: Maximum No.  of iterations to run.\n",
        "        \n",
        "    Return:\n",
        "        V: Optimal state-Value function. Vector of lenth nS.\n",
        "        optimal_policy: Optimal policy. Vector of length nS.\n",
        "    \n",
        "    \"\"\"\n",
        "    # intialize value fucntion\n",
        "    V = np.zeros(env.nS)\n",
        "    \n",
        "    # iterate over max_iterations\n",
        "    for i in range(max_iteration):\n",
        "        \n",
        "        #  keep track of change with previous value function\n",
        "        prev_v = np.copy(V) \n",
        "    \n",
        "        # loop over all states\n",
        "        for state in range(env.nS):\n",
        "            \n",
        "            # Asynchronously update the state-action value\n",
        "            #action_values = one_step_lookahead(env, state, V, discount_factor)\n",
        "            \n",
        "            # Synchronously update the state-action value\n",
        "            action_values = one_step_lookahead(env, state, prev_v, discount_factor)\n",
        "            \n",
        "            # select best action to perform based on highest state-action value\n",
        "            best_action_value = np.max(action_values)\n",
        "            \n",
        "            # update the current state-value fucntion\n",
        "            V[state] =  best_action_value\n",
        "            \n",
        "        # if policy not changed over 10 iterations it converged.\n",
        "        if i % 10 == 0:\n",
        "            # if values of 'V' not changing after one iteration\n",
        "            if (np.all(np.isclose(V, prev_v))):\n",
        "                print('Value converged at iteration %d' %(i+1))\n",
        "                break\n",
        "\n",
        "    # intialize optimal policy\n",
        "    optimal_policy = np.zeros(env.nS, dtype = 'int8')\n",
        "    \n",
        "    # update the optimal polciy according to optimal value function 'V'\n",
        "    optimal_policy = update_policy(env, optimal_policy, V, discount_factor)\n",
        "    \n",
        "    return V, optimal_policy"
      ],
      "execution_count": 0,
      "outputs": []
    },
    {
      "cell_type": "markdown",
      "metadata": {
        "id": "lTDP6yYxqkOe",
        "colab_type": "text"
      },
      "source": [
        "## Test the Algorithim"
      ]
    },
    {
      "cell_type": "code",
      "metadata": {
        "id": "Wkp-N7yZqkOf",
        "colab_type": "code",
        "outputId": "eb5b3c6c-6349-4374-e14d-3df0d92c6b3c",
        "colab": {
          "base_uri": "https://localhost:8080/",
          "height": 170
        }
      },
      "source": [
        "from toh_gym.envs import TohEnv\n",
        "enviorment = TohEnv(poles=3, rings=3, noise=0.1)\n",
        "print(enviorment.nS)\n",
        "enviorment.render()\n",
        "tic = time.time()\n",
        "opt_V, opt_Policy = value_iteration(enviorment, max_iteration = 1000)\n",
        "toc = time.time()\n",
        "elapsed_time = (toc - tic) * 1000\n",
        "print (f\"Time to converge: {elapsed_time: 0.3} ms\")\n",
        "# print('Optimal Value function: ')\n",
        "# print(opt_V.reshape((8, 8)))\n",
        "# plot_values(opt_V)\n",
        "# print('Final Policy: ')\n",
        "# print(opt_Policy.reshape((8, 8)))\n",
        "# print(' '.join([action_mapping[int(action)] for action in opt_Policy]))"
      ],
      "execution_count": 8,
      "outputs": [
        {
          "output_type": "stream",
          "text": [
            "27\n",
            "\n",
            "   ||      ||      ||   \n",
            "   ||      ||      ||   \n",
            "   ||     ~||~     ||   \n",
            "   ||    ~~||~~ ~~~||~~~\n",
            "‾‾‾‾‾‾‾‾‾‾‾‾‾‾‾‾‾‾‾‾‾‾‾‾‾‾‾‾‾‾\n",
            "Value converged at iteration 31\n",
            "Time to converge:  36.0 ms\n"
          ],
          "name": "stdout"
        }
      ]
    },
    {
      "cell_type": "code",
      "metadata": {
        "id": "AnSsFqc7qkOh",
        "colab_type": "code",
        "colab": {}
      },
      "source": [
        "n_episode = 1000\n",
        "wins, total_reward, avg_reward = play_episodes(enviorment, n_episode, opt_Policy, random = False)"
      ],
      "execution_count": 0,
      "outputs": []
    },
    {
      "cell_type": "code",
      "metadata": {
        "id": "PQUDEUxSqkOk",
        "colab_type": "code",
        "outputId": "dbfd4691-c962-4d4b-e6a7-26fc525ddd25",
        "colab": {
          "base_uri": "https://localhost:8080/",
          "height": 51
        }
      },
      "source": [
        "print(f'Total wins with value iteration: {wins}')\n",
        "print(f\"Average rewards with value iteration: {avg_reward}\")"
      ],
      "execution_count": 10,
      "outputs": [
        {
          "output_type": "stream",
          "text": [
            "Total wins with value iteration: 780\n",
            "Average rewards with value iteration: 0.78\n"
          ],
          "name": "stdout"
        }
      ]
    },
    {
      "cell_type": "markdown",
      "metadata": {
        "id": "Sp_Vom5dqkOn",
        "colab_type": "text"
      },
      "source": [
        "## 4. Solve for Policy Iteration"
      ]
    },
    {
      "cell_type": "markdown",
      "metadata": {
        "id": "P22qxcrZqkOn",
        "colab_type": "text"
      },
      "source": [
        "![](https://github.com/waqasqammar/MDP-with-Value-Iteration-and-Policy-Iteration/blob/master/nb_images/policy_iter.png?raw=1)"
      ]
    },
    {
      "cell_type": "code",
      "metadata": {
        "id": "ay_yA8PKqkOo",
        "colab_type": "code",
        "colab": {}
      },
      "source": [
        "def policy_eval(env, policy, V, discount_factor):\n",
        "    \"\"\"\n",
        "    Helper function to evaluate a policy.\n",
        "    \n",
        "    Arguments:\n",
        "        env: openAI GYM Enviorment object.\n",
        "        policy: policy to evaluate.\n",
        "        V: Estimated Value for each state. Vector of length nS.\n",
        "        discount_factor: MDP discount factor.\n",
        "    Return:\n",
        "        policy_value: Estimated value of each state following a given policy and state-value 'V'. \n",
        "        \n",
        "    \"\"\"\n",
        "    policy_value = np.zeros(env.nS)\n",
        "    for state, action in enumerate(policy):\n",
        "        for probablity, next_state, reward, info in env.P[state][action]:\n",
        "            policy_value[state] += probablity * (reward + (discount_factor * V[next_state]))\n",
        "            \n",
        "    return policy_value"
      ],
      "execution_count": 0,
      "outputs": []
    },
    {
      "cell_type": "code",
      "metadata": {
        "id": "uorWrkZ7qkOq",
        "colab_type": "code",
        "colab": {}
      },
      "source": [
        "def policy_iteration(env, discount_factor = 0.999, max_iteration = 1000):\n",
        "    \"\"\"\n",
        "    Algorithm to solve MPD.\n",
        "    \n",
        "    Arguments:\n",
        "        env: openAI GYM Enviorment object.\n",
        "        discount_factor: MDP discount factor.\n",
        "        max_iteration: Maximum No.  of iterations to run.\n",
        "        \n",
        "    Return:\n",
        "        V: Optimal state-Value function. Vector of lenth nS.\n",
        "        new_policy: Optimal policy. Vector of length nS.\n",
        "    \n",
        "    \"\"\"\n",
        "    # intialize the state-Value function\n",
        "    V = np.zeros(env.nS)\n",
        "    \n",
        "    # intialize a random policy\n",
        "    policy = np.random.randint(0, 4, env.nS)\n",
        "    policy_prev = np.copy(policy)\n",
        "    \n",
        "    for i in range(max_iteration):\n",
        "        \n",
        "        # evaluate given policy\n",
        "        V = policy_eval(env, policy, V, discount_factor)\n",
        "        \n",
        "        # improve policy\n",
        "        policy = update_policy(env, policy, V, discount_factor)\n",
        "        \n",
        "        # if policy not changed over 10 iterations it converged.\n",
        "        if i % 10 == 0:\n",
        "            if (np.all(np.equal(policy, policy_prev))):\n",
        "                print('policy converged at iteration %d' %(i+1))\n",
        "                break\n",
        "            policy_prev = np.copy(policy)\n",
        "            \n",
        "\n",
        "            \n",
        "    return V, policy"
      ],
      "execution_count": 0,
      "outputs": []
    },
    {
      "cell_type": "markdown",
      "metadata": {
        "id": "OSFZvTZ0qkOs",
        "colab_type": "text"
      },
      "source": [
        "## Test Policy Iteration"
      ]
    },
    {
      "cell_type": "code",
      "metadata": {
        "id": "NIKon-AtqkOs",
        "colab_type": "code",
        "outputId": "5812b14b-d766-43af-e09d-ac4901a33c5f",
        "colab": {
          "base_uri": "https://localhost:8080/",
          "height": 170
        }
      },
      "source": [
        "enviorment2 = TohEnv(poles=3, rings=3, noise=0.1)\n",
        "print(enviorment2.nS)\n",
        "enviorment2.render()\n",
        "tic = time.time()\n",
        "opt_V2, opt_policy2 = policy_iteration(enviorment, discount_factor = 0.999, max_iteration = 10000)\n",
        "toc = time.time()\n",
        "elapsed_time = (toc - tic) * 1000\n",
        "print (f\"Time to converge: {elapsed_time: 0.3} ms\")\n",
        "# print('Optimal Value function: ')\n",
        "# print(opt_V2.reshape((8, 8)))\n",
        "# plot_values(opt_V2)\n",
        "# print('Final Policy: ')\n",
        "# print(opt_policy2.reshape((8,8)))\n",
        "# print(' '.join([action_mapping[(action)] for action in opt_policy2]))"
      ],
      "execution_count": 13,
      "outputs": [
        {
          "output_type": "stream",
          "text": [
            "27\n",
            "\n",
            "   ||      ||      ||   \n",
            "   ||      ||      ||   \n",
            " ~~||~~    ||      ||   \n",
            "~~~||~~~  ~||~     ||   \n",
            "‾‾‾‾‾‾‾‾‾‾‾‾‾‾‾‾‾‾‾‾‾‾‾‾‾‾‾‾‾‾\n",
            "policy converged at iteration 31\n",
            "Time to converge:  22.8 ms\n"
          ],
          "name": "stdout"
        }
      ]
    },
    {
      "cell_type": "code",
      "metadata": {
        "id": "7-rWxJUyqkOw",
        "colab_type": "code",
        "colab": {}
      },
      "source": [
        "n_episode = 1000\n",
        "wins, total_reward, avg_reward = play_episodes(enviorment, n_episode, opt_policy2, random = False)"
      ],
      "execution_count": 0,
      "outputs": []
    },
    {
      "cell_type": "code",
      "metadata": {
        "id": "Ebr_ZXYCqkOz",
        "colab_type": "code",
        "outputId": "5a5dc37c-e5ea-4d02-f5e6-ca2dd98bb407",
        "colab": {
          "base_uri": "https://localhost:8080/",
          "height": 51
        }
      },
      "source": [
        "print(f'Total wins with Policy iteration: {wins}')\n",
        "print(f\"Average rewards with Policy iteration: {avg_reward}\")"
      ],
      "execution_count": 15,
      "outputs": [
        {
          "output_type": "stream",
          "text": [
            "Total wins with Policy iteration: 796\n",
            "Average rewards with Policy iteration: 0.796\n"
          ],
          "name": "stdout"
        }
      ]
    },
    {
      "cell_type": "markdown",
      "metadata": {
        "id": "56g985KEqkO1",
        "colab_type": "text"
      },
      "source": [
        "## Remarks"
      ]
    },
    {
      "cell_type": "markdown",
      "metadata": {
        "id": "Ss0zPBEzqkO2",
        "colab_type": "text"
      },
      "source": [
        "Policy Iteration converge faster but takes more computation."
      ]
    },
    {
      "cell_type": "code",
      "metadata": {
        "id": "utYWZl1NqkO2",
        "colab_type": "code",
        "colab": {}
      },
      "source": [
        ""
      ],
      "execution_count": 0,
      "outputs": []
    }
  ]
}