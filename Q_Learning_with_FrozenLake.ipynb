{
  "nbformat": 4,
  "nbformat_minor": 0,
  "metadata": {
    "kernelspec": {
      "display_name": "Python [default]",
      "language": "python",
      "name": "python3"
    },
    "language_info": {
      "codemirror_mode": {
        "name": "ipython",
        "version": 3
      },
      "file_extension": ".py",
      "mimetype": "text/x-python",
      "name": "python",
      "nbconvert_exporter": "python",
      "pygments_lexer": "ipython3",
      "version": "3.6.4"
    },
    "colab": {
      "name": "Q Learning with FrozenLake.ipynb",
      "provenance": [],
      "collapsed_sections": []
    }
  },
  "cells": [
    {
      "cell_type": "markdown",
      "metadata": {
        "id": "cobFTSBhKO3M",
        "colab_type": "text"
      },
      "source": [
        "# Q* Learning with FrozenLake 🕹️⛄\n",
        "<br> \n",
        "In this Notebook, we'll implement an agent <b>that plays FrozenLake.</b>\n",
        "<img src=\"https://github.com/simoninithomas/Deep_reinforcement_learning_Course/blob/master/Q%20learning/FrozenLake/frozenlake.png?raw=1\" alt=\"Frozen Lake\"/>\n",
        "\n",
        "The goal of this game is <b>to go from the starting state (S) to the goal state (G)</b> by walking only on frozen tiles (F) and avoid holes (H).However, the ice is slippery, <b>so you won't always move in the direction you intend (stochastic environment)</b>"
      ]
    },
    {
      "cell_type": "markdown",
      "metadata": {
        "id": "L5vko2jSKO3R",
        "colab_type": "text"
      },
      "source": [
        "## Step 0: Import the dependencies 📚\n",
        "We use 3 libraries:\n",
        "- `Numpy` for our Qtable\n",
        "- `OpenAI Gym` for our FrozenLake Environment\n",
        "- `Random` to generate random numbers"
      ]
    },
    {
      "cell_type": "code",
      "metadata": {
        "id": "7BnMjH5cKO3S",
        "colab_type": "code",
        "colab": {}
      },
      "source": [
        "import numpy as np\n",
        "import gym\n",
        "import random"
      ],
      "execution_count": 0,
      "outputs": []
    },
    {
      "cell_type": "code",
      "metadata": {
        "id": "FcshmRmaMzjb",
        "colab_type": "code",
        "colab": {}
      },
      "source": [
        "import matplotlib.pyplot as plt\n",
        "\n",
        "def plot_values(V):\n",
        "\t# reshape value function\n",
        "\tV_sq = np.reshape(V, (8,8))\n",
        "\n",
        "\t# plot the state-value function\n",
        "\tfig = plt.figure(figsize=(12, 12))\n",
        "\tax = fig.add_subplot(111)\n",
        "\tim = ax.imshow(V_sq, cmap='cool')\n",
        "\tfor (j,i),label in np.ndenumerate(V_sq):\n",
        "\t    ax.text(i, j, np.round(label, 5), ha='center', va='center', fontsize=14)\n",
        "\tplt.tick_params(bottom='off', left='off', labelbottom='off', labelleft='off')\n",
        "\tplt.title('State-Value Function')\n",
        "\tplt.show()"
      ],
      "execution_count": 0,
      "outputs": []
    },
    {
      "cell_type": "markdown",
      "metadata": {
        "id": "qVY8Lcl7KO3U",
        "colab_type": "text"
      },
      "source": [
        "## Step 1: Create the environment 🎮\n",
        "- Here we'll create the FrozenLake environment. \n",
        "- OpenAI Gym is a library <b> composed of many environments that we can use to train our agents.</b>\n",
        "- In our case we choose to use Frozen Lake."
      ]
    },
    {
      "cell_type": "code",
      "metadata": {
        "id": "3cjIVz3MKO3V",
        "colab_type": "code",
        "colab": {}
      },
      "source": [
        "env = gym.make(\"FrozenLake8x8-v0\")"
      ],
      "execution_count": 0,
      "outputs": []
    },
    {
      "cell_type": "markdown",
      "metadata": {
        "id": "yCvrVa91KO3X",
        "colab_type": "text"
      },
      "source": [
        "## Step 2: Create the Q-table and initialize it 🗄️\n",
        "- Now, we'll create our Q-table, to know how much rows (states) and columns (actions) we need, we need to calculate the action_size and the state_size\n",
        "- OpenAI Gym provides us a way to do that: `env.action_space.n` and `env.observation_space.n`"
      ]
    },
    {
      "cell_type": "code",
      "metadata": {
        "id": "LHwkDBbaKO3Y",
        "colab_type": "code",
        "colab": {}
      },
      "source": [
        "action_size = env.action_space.n\n",
        "state_size = env.observation_space.n"
      ],
      "execution_count": 0,
      "outputs": []
    },
    {
      "cell_type": "code",
      "metadata": {
        "id": "VTDkMKEaKO3a",
        "colab_type": "code",
        "outputId": "7fa8a82f-1e5c-40b1-e681-64265c23b7a1",
        "colab": {
          "base_uri": "https://localhost:8080/",
          "height": 1000
        }
      },
      "source": [
        "qtable = np.zeros((state_size, action_size))\n",
        "print(qtable)"
      ],
      "execution_count": 91,
      "outputs": [
        {
          "output_type": "stream",
          "text": [
            "[[0. 0. 0. 0.]\n",
            " [0. 0. 0. 0.]\n",
            " [0. 0. 0. 0.]\n",
            " [0. 0. 0. 0.]\n",
            " [0. 0. 0. 0.]\n",
            " [0. 0. 0. 0.]\n",
            " [0. 0. 0. 0.]\n",
            " [0. 0. 0. 0.]\n",
            " [0. 0. 0. 0.]\n",
            " [0. 0. 0. 0.]\n",
            " [0. 0. 0. 0.]\n",
            " [0. 0. 0. 0.]\n",
            " [0. 0. 0. 0.]\n",
            " [0. 0. 0. 0.]\n",
            " [0. 0. 0. 0.]\n",
            " [0. 0. 0. 0.]\n",
            " [0. 0. 0. 0.]\n",
            " [0. 0. 0. 0.]\n",
            " [0. 0. 0. 0.]\n",
            " [0. 0. 0. 0.]\n",
            " [0. 0. 0. 0.]\n",
            " [0. 0. 0. 0.]\n",
            " [0. 0. 0. 0.]\n",
            " [0. 0. 0. 0.]\n",
            " [0. 0. 0. 0.]\n",
            " [0. 0. 0. 0.]\n",
            " [0. 0. 0. 0.]\n",
            " [0. 0. 0. 0.]\n",
            " [0. 0. 0. 0.]\n",
            " [0. 0. 0. 0.]\n",
            " [0. 0. 0. 0.]\n",
            " [0. 0. 0. 0.]\n",
            " [0. 0. 0. 0.]\n",
            " [0. 0. 0. 0.]\n",
            " [0. 0. 0. 0.]\n",
            " [0. 0. 0. 0.]\n",
            " [0. 0. 0. 0.]\n",
            " [0. 0. 0. 0.]\n",
            " [0. 0. 0. 0.]\n",
            " [0. 0. 0. 0.]\n",
            " [0. 0. 0. 0.]\n",
            " [0. 0. 0. 0.]\n",
            " [0. 0. 0. 0.]\n",
            " [0. 0. 0. 0.]\n",
            " [0. 0. 0. 0.]\n",
            " [0. 0. 0. 0.]\n",
            " [0. 0. 0. 0.]\n",
            " [0. 0. 0. 0.]\n",
            " [0. 0. 0. 0.]\n",
            " [0. 0. 0. 0.]\n",
            " [0. 0. 0. 0.]\n",
            " [0. 0. 0. 0.]\n",
            " [0. 0. 0. 0.]\n",
            " [0. 0. 0. 0.]\n",
            " [0. 0. 0. 0.]\n",
            " [0. 0. 0. 0.]\n",
            " [0. 0. 0. 0.]\n",
            " [0. 0. 0. 0.]\n",
            " [0. 0. 0. 0.]\n",
            " [0. 0. 0. 0.]\n",
            " [0. 0. 0. 0.]\n",
            " [0. 0. 0. 0.]\n",
            " [0. 0. 0. 0.]\n",
            " [0. 0. 0. 0.]]\n"
          ],
          "name": "stdout"
        }
      ]
    },
    {
      "cell_type": "markdown",
      "metadata": {
        "id": "8EebK5roKO3d",
        "colab_type": "text"
      },
      "source": [
        "## Step 3: Create the hyperparameters ⚙️\n",
        "- Here, we'll specify the hyperparameters"
      ]
    },
    {
      "cell_type": "code",
      "metadata": {
        "id": "cNBZX-A_KO3e",
        "colab_type": "code",
        "colab": {}
      },
      "source": [
        "total_episodes = 100000        # Total episodes\n",
        "learning_rate = 0.8           # Learning rate\n",
        "max_steps = 99                # Max steps per episode\n",
        "gamma = 0.95                  # Discounting rate\n",
        "\n",
        "# Exploration parameters\n",
        "epsilon = 1.0                 # Exploration rate\n",
        "max_epsilon = 1.0             # Exploration probability at start\n",
        "min_epsilon = 0.01            # Minimum exploration probability \n",
        "decay_rate = 0.0001             # Exponential decay rate for exploration prob"
      ],
      "execution_count": 0,
      "outputs": []
    },
    {
      "cell_type": "markdown",
      "metadata": {
        "id": "GWLU4NM2KO3g",
        "colab_type": "text"
      },
      "source": [
        "## Step 4: The Q learning algorithm 🧠\n",
        "- Now we implement the Q learning algorithm:\n",
        "<img src=\"https://github.com/simoninithomas/Deep_reinforcement_learning_Course/blob/master/Q%20learning/FrozenLake/qtable_algo.png?raw=1\" alt=\"Q algo\"/>"
      ]
    },
    {
      "cell_type": "code",
      "metadata": {
        "id": "0xKq_LUtKO3h",
        "colab_type": "code",
        "outputId": "b045b1b0-23c6-40e3-dd52-19a59ce9e611",
        "colab": {
          "base_uri": "https://localhost:8080/",
          "height": 1000
        }
      },
      "source": [
        "# List of rewards\n",
        "rewards = []\n",
        "\n",
        "# 2 For life or until learning is stopped\n",
        "for episode in range(total_episodes):\n",
        "    # Reset the environment\n",
        "    state = env.reset()\n",
        "    step = 0\n",
        "    done = False\n",
        "    total_rewards = 0\n",
        "    \n",
        "    for step in range(max_steps):\n",
        "        # 3. Choose an action a in the current world state (s)\n",
        "        ## First we randomize a number\n",
        "        exp_exp_tradeoff = random.uniform(0, 1)\n",
        "        \n",
        "        ## If this number > greater than epsilon --> exploitation (taking the biggest Q value for this state)\n",
        "        if exp_exp_tradeoff > epsilon:\n",
        "            action = np.argmax(qtable[state,:])\n",
        "\n",
        "        # Else doing a random choice --> exploration\n",
        "        else:\n",
        "            action = env.action_space.sample()\n",
        "\n",
        "        # Take the action (a) and observe the outcome state(s') and reward (r)\n",
        "        new_state, reward, done, info = env.step(action)\n",
        "\n",
        "        # Update Q(s,a):= Q(s,a) + lr [R(s,a) + gamma * max Q(s',a') - Q(s,a)]\n",
        "        # qtable[new_state,:] : all the actions we can take from new state\n",
        "        qtable[state, action] = qtable[state, action] + learning_rate * (reward + gamma * np.max(qtable[new_state, :]) - qtable[state, action])\n",
        "        \n",
        "        total_rewards += reward\n",
        "        \n",
        "        # Our new state is state\n",
        "        state = new_state\n",
        "        \n",
        "        # If done (if we're dead) : finish episode\n",
        "        if done == True: \n",
        "            break\n",
        "        \n",
        "    # Reduce epsilon (because we need less and less exploration)\n",
        "    epsilon = min_epsilon + (max_epsilon - min_epsilon)*np.exp(-decay_rate*episode) \n",
        "    rewards.append(total_rewards)\n",
        "\n",
        "print (\"Score over time: \" +  str(sum(rewards)/total_episodes))\n",
        "print(qtable)\n"
      ],
      "execution_count": 101,
      "outputs": [
        {
          "output_type": "stream",
          "text": [
            "Score over time: 0.19736\n",
            "[[7.74851416e-03 7.83538630e-03 9.95482668e-03 7.83594844e-03]\n",
            " [1.15183312e-02 1.10391332e-02 8.34016050e-03 1.47341561e-02]\n",
            " [1.01221467e-02 1.48912007e-02 2.18501013e-02 1.18119649e-02]\n",
            " [1.62871355e-02 1.76075914e-02 1.65601284e-02 2.19188764e-02]\n",
            " [1.93965962e-02 1.88995487e-02 1.88540218e-02 1.88285696e-02]\n",
            " [2.25745075e-02 2.14286533e-02 2.24859074e-02 2.20766118e-02]\n",
            " [4.34581608e-02 2.35104235e-02 2.41745481e-02 2.40095357e-02]\n",
            " [2.54405973e-02 2.74686340e-02 2.65062711e-02 2.67892374e-02]\n",
            " [8.80282895e-03 7.53709815e-03 5.85749269e-03 9.15281658e-03]\n",
            " [9.60337528e-03 9.29223312e-03 8.95055854e-03 1.10748132e-02]\n",
            " [8.28363223e-03 1.29402113e-02 9.57447895e-03 1.25484055e-02]\n",
            " [1.74065734e-03 4.43027794e-03 4.25920122e-03 1.81479603e-02]\n",
            " [1.46089043e-02 1.66297830e-02 1.37774631e-02 1.02492690e-01]\n",
            " [1.37201439e-02 1.98466286e-02 1.57627386e-02 1.29733100e-01]\n",
            " [2.75648805e-02 2.80032602e-02 6.51359373e-02 2.79834005e-02]\n",
            " [2.84487917e-02 1.59055299e-01 2.83640328e-02 2.76563332e-02]\n",
            " [5.00253846e-03 4.57712501e-03 4.79181773e-03 1.26274906e-02]\n",
            " [2.86022028e-03 2.97630763e-03 3.07772680e-03 1.02755001e-02]\n",
            " [3.05508250e-02 1.10684559e-03 3.75107650e-04 1.54904057e-03]\n",
            " [0.00000000e+00 0.00000000e+00 0.00000000e+00 0.00000000e+00]\n",
            " [1.22035744e-04 5.38528072e-05 2.56115488e-03 2.96213789e-03]\n",
            " [7.75334357e-03 5.42922784e-03 9.45551525e-03 2.22756687e-02]\n",
            " [2.18810801e-02 2.75790080e-02 1.10308092e-01 3.07126758e-02]\n",
            " [1.26957559e-01 3.26418064e-02 3.10639803e-02 3.33141464e-02]\n",
            " [1.31182424e-03 1.11829619e-03 1.17363756e-03 1.50691515e-02]\n",
            " [1.21468328e-03 6.03789526e-04 1.17419568e-03 2.06606102e-02]\n",
            " [3.11739576e-04 5.62889510e-04 8.25180214e-05 1.09352085e-02]\n",
            " [9.20844541e-07 7.96745125e-03 9.40075261e-09 7.92616624e-08]\n",
            " [1.89904036e-03 4.54081307e-04 2.92483988e-04 1.61723643e-04]\n",
            " [0.00000000e+00 0.00000000e+00 0.00000000e+00 0.00000000e+00]\n",
            " [1.87200126e-02 8.67558430e-03 8.61736605e-02 9.81326631e-03]\n",
            " [4.29516424e-02 2.56615701e-01 3.69223954e-02 4.01146851e-02]\n",
            " [1.61129661e-03 4.87710811e-04 3.01240073e-04 4.48038196e-04]\n",
            " [1.21327592e-05 2.17251841e-05 1.24639545e-05 1.12580856e-03]\n",
            " [5.71782556e-07 2.42609316e-07 7.85697982e-08 6.73863992e-07]\n",
            " [0.00000000e+00 0.00000000e+00 0.00000000e+00 0.00000000e+00]\n",
            " [5.36998776e-04 9.27715599e-06 7.19558189e-04 1.01488354e-03]\n",
            " [4.00029257e-03 1.48412062e-02 2.74904876e-03 4.97707921e-03]\n",
            " [6.10330243e-03 1.53463516e-02 1.50845841e-02 4.93124822e-01]\n",
            " [8.23006557e-02 7.63234029e-02 2.72961720e-01 5.71603304e-02]\n",
            " [7.02142689e-04 1.72617091e-04 1.74926187e-04 1.42754023e-04]\n",
            " [0.00000000e+00 0.00000000e+00 0.00000000e+00 0.00000000e+00]\n",
            " [0.00000000e+00 0.00000000e+00 0.00000000e+00 0.00000000e+00]\n",
            " [8.29308953e-15 4.31627582e-06 1.20639046e-06 1.12897184e-07]\n",
            " [5.18201656e-06 1.45896493e-06 3.44189270e-04 9.59388388e-05]\n",
            " [3.42326008e-03 5.40266501e-06 2.05499215e-03 3.13178669e-06]\n",
            " [0.00000000e+00 0.00000000e+00 0.00000000e+00 0.00000000e+00]\n",
            " [3.44198292e-02 1.99204372e-02 3.84336325e-01 1.06945427e-01]\n",
            " [2.80879826e-04 9.09460482e-05 1.66212623e-05 5.54170514e-05]\n",
            " [0.00000000e+00 0.00000000e+00 0.00000000e+00 0.00000000e+00]\n",
            " [2.03360485e-10 1.53584201e-04 5.26098319e-06 5.83933925e-10]\n",
            " [8.51198427e-10 1.16472029e-10 4.05971943e-07 1.65739650e-07]\n",
            " [0.00000000e+00 0.00000000e+00 0.00000000e+00 0.00000000e+00]\n",
            " [2.38076358e-05 2.81283355e-05 4.78753705e-01 2.68904370e-05]\n",
            " [0.00000000e+00 0.00000000e+00 0.00000000e+00 0.00000000e+00]\n",
            " [1.67681386e-01 1.92253012e-01 8.67770366e-01 2.29799766e-02]\n",
            " [2.75586157e-04 2.72593451e-04 2.78693458e-04 2.79697081e-04]\n",
            " [9.56912670e-07 2.37111216e-04 1.23378017e-05 7.99484826e-06]\n",
            " [6.94589232e-05 9.13562784e-07 3.96571866e-05 2.08596820e-06]\n",
            " [0.00000000e+00 0.00000000e+00 0.00000000e+00 0.00000000e+00]\n",
            " [1.01083710e-04 5.67528889e-01 3.01794849e-04 3.75888956e-04]\n",
            " [2.73224152e-02 1.78668624e-01 7.51426234e-01 7.26128002e-02]\n",
            " [1.20546860e-01 9.66013092e-01 7.72219018e-03 7.68227476e-03]\n",
            " [0.00000000e+00 0.00000000e+00 0.00000000e+00 0.00000000e+00]]\n"
          ],
          "name": "stdout"
        }
      ]
    },
    {
      "cell_type": "code",
      "metadata": {
        "id": "0r4yobY7MY0B",
        "colab_type": "code",
        "colab": {
          "base_uri": "https://localhost:8080/",
          "height": 1000
        },
        "outputId": "6128c871-2101-4df2-f6d5-44978f55fa65"
      },
      "source": [
        "q_valuemap = np.amax(qtable, axis=1)\n",
        "print(q_valuemap.reshape((8,8)))\n",
        "plot_values(q_valuemap)\n",
        "\n",
        "q_policymap = np.argmax(qtable, axis=1)\n",
        "print('Final Policy: ')\n",
        "print(q_policymap.reshape((8,8)))"
      ],
      "execution_count": 102,
      "outputs": [
        {
          "output_type": "stream",
          "text": [
            "[[9.95482668e-03 1.47341561e-02 2.18501013e-02 2.19188764e-02\n",
            "  1.93965962e-02 2.25745075e-02 4.34581608e-02 2.74686340e-02]\n",
            " [9.15281658e-03 1.10748132e-02 1.29402113e-02 1.81479603e-02\n",
            "  1.02492690e-01 1.29733100e-01 6.51359373e-02 1.59055299e-01]\n",
            " [1.26274906e-02 1.02755001e-02 3.05508250e-02 0.00000000e+00\n",
            "  2.96213789e-03 2.22756687e-02 1.10308092e-01 1.26957559e-01]\n",
            " [1.50691515e-02 2.06606102e-02 1.09352085e-02 7.96745125e-03\n",
            "  1.89904036e-03 0.00000000e+00 8.61736605e-02 2.56615701e-01]\n",
            " [1.61129661e-03 1.12580856e-03 6.73863992e-07 0.00000000e+00\n",
            "  1.01488354e-03 1.48412062e-02 4.93124822e-01 2.72961720e-01]\n",
            " [7.02142689e-04 0.00000000e+00 0.00000000e+00 4.31627582e-06\n",
            "  3.44189270e-04 3.42326008e-03 0.00000000e+00 3.84336325e-01]\n",
            " [2.80879826e-04 0.00000000e+00 1.53584201e-04 4.05971943e-07\n",
            "  0.00000000e+00 4.78753705e-01 0.00000000e+00 8.67770366e-01]\n",
            " [2.79697081e-04 2.37111216e-04 6.94589232e-05 0.00000000e+00\n",
            "  5.67528889e-01 7.51426234e-01 9.66013092e-01 0.00000000e+00]]\n"
          ],
          "name": "stdout"
        },
        {
          "output_type": "display_data",
          "data": {
            "image/png": "[encoded data removed]",
            "text/plain": [
              "<Figure size 864x864 with 1 Axes>"
            ]
          },
          "metadata": {
            "tags": [],
            "needs_background": "light"
          }
        },
        {
          "output_type": "stream",
          "text": [
            "Final Policy: \n",
            "[[2 3 2 3 0 0 0 1]\n",
            " [3 3 1 3 3 3 2 1]\n",
            " [3 3 0 0 3 3 2 0]\n",
            " [3 3 3 1 0 0 2 1]\n",
            " [0 3 3 0 3 1 3 2]\n",
            " [0 0 0 1 2 0 0 2]\n",
            " [0 0 1 2 0 2 0 2]\n",
            " [3 1 0 0 1 2 1 0]]\n"
          ],
          "name": "stdout"
        }
      ]
    },
    {
      "cell_type": "markdown",
      "metadata": {
        "id": "8J_-jL-bKO3j",
        "colab_type": "text"
      },
      "source": [
        "## Step 5: Use our Q-table to play FrozenLake ! 👾\n",
        "- After 10 000 episodes, our Q-table can be used as a \"cheatsheet\" to play FrozenLake\"\n",
        "- By running this cell you can see our agent playing FrozenLake."
      ]
    },
    {
      "cell_type": "code",
      "metadata": {
        "id": "9iN5-NM1LmWy",
        "colab_type": "code",
        "colab": {}
      },
      "source": [
        "def play_episodes(enviorment, n_episodes, policy, random = False):\n",
        "    \"\"\"\n",
        "    This fucntion plays the given number of episodes given by following a policy or sample randomly from action_space.\n",
        "    \n",
        "    Parameters:\n",
        "        enviorment: openAI GYM object\n",
        "        n_episodes: number of episodes to run\n",
        "        policy: Policy to follow while playing an episode\n",
        "        random: Flag for taking random actions. if True no policy would be followed and action will be taken randomly\n",
        "        \n",
        "    Return:\n",
        "        wins: Total number of wins playing n_episodes\n",
        "        total_reward: Total reward of n_episodes\n",
        "        avg_reward: Average reward of n_episodes\n",
        "    \n",
        "    \"\"\"\n",
        "    # intialize wins and total reward\n",
        "    wins = 0\n",
        "    total_reward = 0\n",
        "    \n",
        "    # loop over number of episodes to play\n",
        "    for episode in range(n_episodes):\n",
        "        \n",
        "        # flag to check if the game is finished\n",
        "        terminated = False\n",
        "        \n",
        "        # reset the enviorment every time when playing a new episode\n",
        "        state = enviorment.reset()\n",
        "        \n",
        "        while not terminated:\n",
        "            \n",
        "            # check if the random flag is not true then follow the given policy other wise take random action\n",
        "            if random:\n",
        "                action = enviorment.action_space.sample()\n",
        "            else:\n",
        "                action = policy[state]\n",
        "\n",
        "            # take the next step\n",
        "            next_state, reward,  terminated, info = enviorment.step(action)\n",
        "            \n",
        "            # enviorment.render()\n",
        "            \n",
        "            # accumalate total reward\n",
        "            total_reward += reward\n",
        "            \n",
        "            # change the state\n",
        "            state = next_state\n",
        "            \n",
        "            # if game is over with positive reward then add 1.0 in wins\n",
        "            if terminated and reward == 1.0:\n",
        "                wins += 1\n",
        "                \n",
        "    # calculate average reward\n",
        "    average_reward = total_reward / n_episodes\n",
        "    \n",
        "    return wins, total_reward, average_reward"
      ],
      "execution_count": 0,
      "outputs": []
    },
    {
      "cell_type": "code",
      "metadata": {
        "id": "XJEKrNspNt7i",
        "colab_type": "code",
        "colab": {}
      },
      "source": [
        "n_episode = 1000\n",
        "wins, total_reward, avg_reward = play_episodes(env, n_episode, q_policymap, random = False)"
      ],
      "execution_count": 0,
      "outputs": []
    },
    {
      "cell_type": "code",
      "metadata": {
        "id": "qbtD1nBMN3sw",
        "colab_type": "code",
        "colab": {
          "base_uri": "https://localhost:8080/",
          "height": 51
        },
        "outputId": "5e969789-97f9-44d9-9cca-43d080992753"
      },
      "source": [
        "print(f'Total wins with q learning: {wins}')\n",
        "print(f\"Average rewards with q learning: {avg_reward}\")"
      ],
      "execution_count": 115,
      "outputs": [
        {
          "output_type": "stream",
          "text": [
            "Total wins with q learning: 305\n",
            "Average rewards with q learning: 0.305\n"
          ],
          "name": "stdout"
        }
      ]
    },
    {
      "cell_type": "code",
      "metadata": {
        "id": "aqvpbEFlKtyN",
        "colab_type": "code",
        "colab": {}
      },
      "source": [
        ""
      ],
      "execution_count": 0,
      "outputs": []
    }
  ]
}